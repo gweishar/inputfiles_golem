{
 "cells": [
  {
   "cell_type": "markdown",
   "metadata": {},
   "source": [
    "# Processing Exodus-files in Python\n",
    "\n",
    "Here a quick first test to load Exodus files (result files from MOOSE) with python to inspect results and to generate high-quality figures.\n",
    "\n",
    "As a first step, make sure that `netcdf4` is installed. Actually, this should simply be possible using Anaconda:\n",
    "\n",
    "`conda install netcdf4`"
   ]
  },
  {
   "cell_type": "code",
   "execution_count": 1,
   "metadata": {
    "collapsed": true
   },
   "outputs": [],
   "source": [
    "import netCDF4"
   ]
  },
  {
   "cell_type": "code",
   "execution_count": 2,
   "metadata": {
    "collapsed": false
   },
   "outputs": [],
   "source": [
    "import numpy as np"
   ]
  },
  {
   "cell_type": "markdown",
   "metadata": {},
   "source": [
    "We can now simply load the exodus file as a netcdf-object (I am actually quite impressed that this is working so easily...):"
   ]
  },
  {
   "cell_type": "code",
   "execution_count": 3,
   "metadata": {
    "collapsed": true
   },
   "outputs": [],
   "source": [
    "nc = netCDF4.Dataset('Florian_Benchmark/1-T/T_2D_small_out.e')"
   ]
  },
  {
   "cell_type": "markdown",
   "metadata": {},
   "source": [
    "We can first have a quick view at the variables:"
   ]
  },
  {
   "cell_type": "code",
   "execution_count": 4,
   "metadata": {
    "collapsed": false
   },
   "outputs": [
    {
     "data": {
      "text/plain": [
       "OrderedDict([('time_whole', <class 'netCDF4._netCDF4.Variable'>\n",
       "              float64 time_whole(time_step)\n",
       "              unlimited dimensions: time_step\n",
       "              current shape = (2,)\n",
       "              filling off), ('eb_status', <class 'netCDF4._netCDF4.Variable'>\n",
       "              int32 eb_status(num_el_blk)\n",
       "              unlimited dimensions: \n",
       "              current shape = (1,)\n",
       "              filling off), ('eb_prop1', <class 'netCDF4._netCDF4.Variable'>\n",
       "              int32 eb_prop1(num_el_blk)\n",
       "                  name: ID\n",
       "              unlimited dimensions: \n",
       "              current shape = (1,)\n",
       "              filling off), ('ns_status', <class 'netCDF4._netCDF4.Variable'>\n",
       "              int32 ns_status(num_node_sets)\n",
       "              unlimited dimensions: \n",
       "              current shape = (4,)\n",
       "              filling off), ('ns_prop1', <class 'netCDF4._netCDF4.Variable'>\n",
       "              int32 ns_prop1(num_node_sets)\n",
       "                  name: ID\n",
       "              unlimited dimensions: \n",
       "              current shape = (4,)\n",
       "              filling off), ('ss_status', <class 'netCDF4._netCDF4.Variable'>\n",
       "              int32 ss_status(num_side_sets)\n",
       "              unlimited dimensions: \n",
       "              current shape = (4,)\n",
       "              filling off), ('ss_prop1', <class 'netCDF4._netCDF4.Variable'>\n",
       "              int32 ss_prop1(num_side_sets)\n",
       "                  name: ID\n",
       "              unlimited dimensions: \n",
       "              current shape = (4,)\n",
       "              filling off), ('coordx', <class 'netCDF4._netCDF4.Variable'>\n",
       "              float64 coordx(num_nodes)\n",
       "              unlimited dimensions: \n",
       "              current shape = (1326,)\n",
       "              filling off), ('coordy', <class 'netCDF4._netCDF4.Variable'>\n",
       "              float64 coordy(num_nodes)\n",
       "              unlimited dimensions: \n",
       "              current shape = (1326,)\n",
       "              filling off), ('eb_names', <class 'netCDF4._netCDF4.Variable'>\n",
       "              |S1 eb_names(num_el_blk, len_name)\n",
       "              unlimited dimensions: \n",
       "              current shape = (1, 33)\n",
       "              filling off), ('ns_names', <class 'netCDF4._netCDF4.Variable'>\n",
       "              |S1 ns_names(num_node_sets, len_name)\n",
       "              unlimited dimensions: \n",
       "              current shape = (4, 33)\n",
       "              filling off), ('ss_names', <class 'netCDF4._netCDF4.Variable'>\n",
       "              |S1 ss_names(num_side_sets, len_name)\n",
       "              unlimited dimensions: \n",
       "              current shape = (4, 33)\n",
       "              filling off), ('coor_names', <class 'netCDF4._netCDF4.Variable'>\n",
       "              |S1 coor_names(num_dim, len_name)\n",
       "              unlimited dimensions: \n",
       "              current shape = (2, 33)\n",
       "              filling off), ('node_num_map',\n",
       "              <class 'netCDF4._netCDF4.Variable'>\n",
       "              int32 node_num_map(num_nodes)\n",
       "              unlimited dimensions: \n",
       "              current shape = (1326,)\n",
       "              filling off), ('connect1', <class 'netCDF4._netCDF4.Variable'>\n",
       "              int32 connect1(num_el_in_blk1, num_nod_per_el1)\n",
       "                  elem_type: QUAD4\n",
       "              unlimited dimensions: \n",
       "              current shape = (1250, 4)\n",
       "              filling off), ('elem_num_map',\n",
       "              <class 'netCDF4._netCDF4.Variable'>\n",
       "              int32 elem_num_map(num_elem)\n",
       "              unlimited dimensions: \n",
       "              current shape = (1250,)\n",
       "              filling off), ('elem_ss1', <class 'netCDF4._netCDF4.Variable'>\n",
       "              int32 elem_ss1(num_side_ss1)\n",
       "              unlimited dimensions: \n",
       "              current shape = (50,)\n",
       "              filling off), ('side_ss1', <class 'netCDF4._netCDF4.Variable'>\n",
       "              int32 side_ss1(num_side_ss1)\n",
       "              unlimited dimensions: \n",
       "              current shape = (50,)\n",
       "              filling off), ('elem_ss2', <class 'netCDF4._netCDF4.Variable'>\n",
       "              int32 elem_ss2(num_side_ss2)\n",
       "              unlimited dimensions: \n",
       "              current shape = (25,)\n",
       "              filling off), ('side_ss2', <class 'netCDF4._netCDF4.Variable'>\n",
       "              int32 side_ss2(num_side_ss2)\n",
       "              unlimited dimensions: \n",
       "              current shape = (25,)\n",
       "              filling off), ('elem_ss3', <class 'netCDF4._netCDF4.Variable'>\n",
       "              int32 elem_ss3(num_side_ss3)\n",
       "              unlimited dimensions: \n",
       "              current shape = (25,)\n",
       "              filling off), ('side_ss3', <class 'netCDF4._netCDF4.Variable'>\n",
       "              int32 side_ss3(num_side_ss3)\n",
       "              unlimited dimensions: \n",
       "              current shape = (25,)\n",
       "              filling off), ('elem_ss4', <class 'netCDF4._netCDF4.Variable'>\n",
       "              int32 elem_ss4(num_side_ss4)\n",
       "              unlimited dimensions: \n",
       "              current shape = (50,)\n",
       "              filling off), ('side_ss4', <class 'netCDF4._netCDF4.Variable'>\n",
       "              int32 side_ss4(num_side_ss4)\n",
       "              unlimited dimensions: \n",
       "              current shape = (50,)\n",
       "              filling off), ('node_ns1', <class 'netCDF4._netCDF4.Variable'>\n",
       "              int32 node_ns1(num_nod_ns1)\n",
       "              unlimited dimensions: \n",
       "              current shape = (51,)\n",
       "              filling off), ('node_ns2', <class 'netCDF4._netCDF4.Variable'>\n",
       "              int32 node_ns2(num_nod_ns2)\n",
       "              unlimited dimensions: \n",
       "              current shape = (26,)\n",
       "              filling off), ('node_ns3', <class 'netCDF4._netCDF4.Variable'>\n",
       "              int32 node_ns3(num_nod_ns3)\n",
       "              unlimited dimensions: \n",
       "              current shape = (26,)\n",
       "              filling off), ('node_ns4', <class 'netCDF4._netCDF4.Variable'>\n",
       "              int32 node_ns4(num_nod_ns4)\n",
       "              unlimited dimensions: \n",
       "              current shape = (51,)\n",
       "              filling off), ('vals_nod_var1',\n",
       "              <class 'netCDF4._netCDF4.Variable'>\n",
       "              float64 vals_nod_var1(time_step, num_nodes)\n",
       "              unlimited dimensions: time_step\n",
       "              current shape = (2, 1326)\n",
       "              filling off), ('vals_nod_var2',\n",
       "              <class 'netCDF4._netCDF4.Variable'>\n",
       "              float64 vals_nod_var2(time_step, num_nodes)\n",
       "              unlimited dimensions: time_step\n",
       "              current shape = (2, 1326)\n",
       "              filling off), ('name_nod_var',\n",
       "              <class 'netCDF4._netCDF4.Variable'>\n",
       "              |S1 name_nod_var(num_nod_var, len_name)\n",
       "              unlimited dimensions: \n",
       "              current shape = (2, 33)\n",
       "              filling off), ('name_elem_var',\n",
       "              <class 'netCDF4._netCDF4.Variable'>\n",
       "              |S1 name_elem_var(num_elem_var, len_name)\n",
       "              unlimited dimensions: \n",
       "              current shape = (3, 33)\n",
       "              filling off), ('vals_elem_var1eb1',\n",
       "              <class 'netCDF4._netCDF4.Variable'>\n",
       "              float64 vals_elem_var1eb1(time_step, num_el_in_blk1)\n",
       "              unlimited dimensions: time_step\n",
       "              current shape = (2, 1250)\n",
       "              filling off), ('vals_elem_var2eb1',\n",
       "              <class 'netCDF4._netCDF4.Variable'>\n",
       "              float64 vals_elem_var2eb1(time_step, num_el_in_blk1)\n",
       "              unlimited dimensions: time_step\n",
       "              current shape = (2, 1250)\n",
       "              filling off), ('vals_elem_var3eb1',\n",
       "              <class 'netCDF4._netCDF4.Variable'>\n",
       "              float64 vals_elem_var3eb1(time_step, num_el_in_blk1)\n",
       "              unlimited dimensions: time_step\n",
       "              current shape = (2, 1250)\n",
       "              filling off), ('elem_var_tab',\n",
       "              <class 'netCDF4._netCDF4.Variable'>\n",
       "              int32 elem_var_tab(num_el_blk, num_elem_var)\n",
       "              unlimited dimensions: \n",
       "              current shape = (1, 3)\n",
       "              filling off), ('info_records',\n",
       "              <class 'netCDF4._netCDF4.Variable'>\n",
       "              |S1 info_records(num_info, len_line)\n",
       "              unlimited dimensions: \n",
       "              current shape = (540, 81)\n",
       "              filling off)])"
      ]
     },
     "execution_count": 4,
     "metadata": {},
     "output_type": "execute_result"
    }
   ],
   "source": [
    "nc.variables"
   ]
  },
  {
   "cell_type": "code",
   "execution_count": 5,
   "metadata": {
    "collapsed": false
   },
   "outputs": [
    {
     "name": "stdout",
     "output_type": "stream",
     "text": [
      "[[ 1  2  3  4]\n",
      " [ 2  5  6  3]\n",
      " [ 5  7  8  6]\n",
      " [ 7  9 10  8]\n",
      " [ 9 11 12 10]\n",
      " [11 13 14 12]\n",
      " [13 15 16 14]\n",
      " [15 17 18 16]\n",
      " [17 19 20 18]\n",
      " [19 21 22 20]]\n"
     ]
    }
   ],
   "source": [
    "X = nc.variables['coordx']\n",
    "Y = nc.variables['coordy']\n",
    "connect = nc.variables['connect1']\n",
    "print(connect[0:10])"
   ]
  },
  {
   "cell_type": "markdown",
   "metadata": {},
   "source": [
    "Now some of the standard imports for further processing:"
   ]
  },
  {
   "cell_type": "code",
   "execution_count": 6,
   "metadata": {
    "collapsed": true
   },
   "outputs": [],
   "source": [
    "%matplotlib inline\n",
    "from matplotlib.patches import Polygon\n",
    "from matplotlib.collections import PatchCollection\n",
    "import matplotlib.pyplot as plt\n",
    "import matplotlib\n",
    "from mpl_toolkits.axes_grid1 import make_axes_locatable\n"
   ]
  },
  {
   "cell_type": "markdown",
   "metadata": {},
   "source": [
    "## Plot results for arbitrary FE mesh\n",
    "\n",
    "Technically, this should be possible (see example on http://johntfoster.github.io/posts/extracting-exodus-information-with-netcdf-python.html) - however, it doesn't work yet, probably worth investigating a bit more in the future:"
   ]
  },
  {
   "cell_type": "code",
   "execution_count": 81,
   "metadata": {
    "collapsed": false
   },
   "outputs": [
    {
     "data": {
      "image/png": "[encoded data removed]",
      "text/plain": [
       "<matplotlib.figure.Figure at 0x108c20278>"
      ]
     },
     "metadata": {},
     "output_type": "display_data"
    }
   ],
   "source": [
    "xy = np.array([X[:], Y[:]]).T\n",
    "\n",
    "patches = []\n",
    "for coords in xy[connect[:]-1]:\n",
    "    quad = Polygon(coords, True)\n",
    "    patches.append(quad)\n",
    "\n",
    "fig, ax = plt.subplots()\n",
    "colors = 100 * np.random.rand(len(patches))\n",
    "p = PatchCollection(patches, cmap=matplotlib.cm.coolwarm, alpha=0.4)\n",
    "p.set_array(np.array(colors))\n",
    "ax.add_collection(p)\n",
    "# ax.set_xlim([-4, 4])\n",
    "# ax.set_ylim([-4, 4])\n",
    "ax.set_aspect('equal')\n",
    "plt.show()"
   ]
  },
  {
   "cell_type": "markdown",
   "metadata": {},
   "source": [
    "## Presenting results on regular grid\n",
    "\n",
    "Luckily, the results are in this case on a regular grid - so plotting them is straight-forward. First, we note that the X- and Y- variables contain the coordinates:"
   ]
  },
  {
   "cell_type": "code",
   "execution_count": 13,
   "metadata": {
    "collapsed": false
   },
   "outputs": [
    {
     "data": {
      "text/plain": [
       "(array([    0.,    40.,    40., ...,  1920.,  1960.,  2000.]),\n",
       " array([    0.,     0.,    40., ...,  1000.,  1000.,  1000.]))"
      ]
     },
     "execution_count": 13,
     "metadata": {},
     "output_type": "execute_result"
    }
   ],
   "source": [
    "X[:], Y[:]"
   ]
  },
  {
   "cell_type": "markdown",
   "metadata": {},
   "source": [
    "Here a quick scatter plot to visualise these points:"
   ]
  },
  {
   "cell_type": "code",
   "execution_count": 82,
   "metadata": {
    "collapsed": false
   },
   "outputs": [
    {
     "data": {
      "text/plain": [
       "<matplotlib.collections.PathCollection at 0x10f852748>"
      ]
     },
     "execution_count": 82,
     "metadata": {},
     "output_type": "execute_result"
    },
    {
     "data": {
      "image/png": "[encoded data removed]",
      "text/plain": [
       "<matplotlib.figure.Figure at 0x10fc16898>"
      ]
     },
     "metadata": {},
     "output_type": "display_data"
    }
   ],
   "source": [
    "plt.scatter(X[:], Y[:], marker='s', s=10)"
   ]
  },
  {
   "cell_type": "markdown",
   "metadata": {},
   "source": [
    "## Extract variable information\n",
    "\n",
    "As a next step, we need to extract the information at the variable positions. First, let's look at all the information in the Exodus file:"
   ]
  },
  {
   "cell_type": "code",
   "execution_count": 16,
   "metadata": {
    "collapsed": false
   },
   "outputs": [
    {
     "name": "stdout",
     "output_type": "stream",
     "text": [
      "time_whole\n",
      "eb_status\n",
      "eb_prop1\n",
      "ns_status\n",
      "ns_prop1\n",
      "ss_status\n",
      "ss_prop1\n",
      "coordx\n",
      "coordy\n",
      "eb_names\n",
      "ns_names\n",
      "ss_names\n",
      "coor_names\n",
      "node_num_map\n",
      "connect1\n",
      "elem_num_map\n",
      "elem_ss1\n",
      "side_ss1\n",
      "elem_ss2\n",
      "side_ss2\n",
      "elem_ss3\n",
      "side_ss3\n",
      "elem_ss4\n",
      "side_ss4\n",
      "node_ns1\n",
      "node_ns2\n",
      "node_ns3\n",
      "node_ns4\n",
      "vals_nod_var1\n",
      "vals_nod_var2\n",
      "name_nod_var\n",
      "name_elem_var\n",
      "vals_elem_var1eb1\n",
      "vals_elem_var2eb1\n",
      "vals_elem_var3eb1\n",
      "elem_var_tab\n",
      "info_records\n"
     ]
    }
   ],
   "source": [
    "for key,var in nc.variables.items():\n",
    "    print(key)\n",
    "    "
   ]
  },
  {
   "cell_type": "markdown",
   "metadata": {},
   "source": [
    "We seem to have information on both, nodes and elements. Temperature seems to be stored in variable 2 of the node-vars (check: is this the same ordering as in Paraview? Would make inspecting the file quite a bit easier):"
   ]
  },
  {
   "cell_type": "code",
   "execution_count": 26,
   "metadata": {
    "collapsed": false
   },
   "outputs": [],
   "source": [
    "var1 = nc.variables['name_nod_var']"
   ]
  },
  {
   "cell_type": "code",
   "execution_count": 86,
   "metadata": {
    "collapsed": false
   },
   "outputs": [
    {
     "name": "stdout",
     "output_type": "stream",
     "text": [
      "<class 'netCDF4._netCDF4.Variable'>\n",
      "|S1 name_nod_var(num_nod_var, len_name)\n",
      "unlimited dimensions: \n",
      "current shape = (2, 33)\n",
      "filling off\n",
      "\n"
     ]
    }
   ],
   "source": [
    "print(var1)"
   ]
  },
  {
   "cell_type": "code",
   "execution_count": 37,
   "metadata": {
    "collapsed": true
   },
   "outputs": [],
   "source": [
    "var2 = nc.variables['vals_nod_var2']"
   ]
  },
  {
   "cell_type": "markdown",
   "metadata": {},
   "source": [
    "As a final step, we can now use this information to create a plot with `matplotlib`. Note that the fancy way of adding the colorbar is not required, but I quite like it (to get consistent scaling).\n",
    "\n",
    "With the last command, we save the figure to a file. The file format can simply be adjusted with the extension. For the presentation in LaTeX, `.eps`-files are ideal - and these can further be post-processed using conventional vector-graphics software (Corel, Adobe, Inkscape, etc.):"
   ]
  },
  {
   "cell_type": "code",
   "execution_count": 87,
   "metadata": {
    "collapsed": false
   },
   "outputs": [
    {
     "data": {
      "image/png": "[encoded data removed]",
      "text/plain": [
       "<matplotlib.figure.Figure at 0x10e0100b8>"
      ]
     },
     "metadata": {},
     "output_type": "display_data"
    }
   ],
   "source": [
    "f, ax = plt.subplots(1, 1, figsize=(10, 5))\n",
    "im = ax.scatter(X, Y, c=var2[1,:], marker='s', s=80)\n",
    "ax.set_xlabel(\"X [m]\")\n",
    "ax.set_ylabel(\"Z [m]\")\n",
    "divider = make_axes_locatable(ax)\n",
    "cax = divider.append_axes('right', size='2%', pad=0.1)\n",
    "cbar = plt.colorbar(im, cax=cax)\n",
    "cbar.set_label(\"Temperature [$^o$C]\")\n",
    "ax.set_aspect('equal')\n",
    "plt.savefig(\"temperature.eps\")"
   ]
  },
  {
   "cell_type": "code",
   "execution_count": null,
   "metadata": {
    "collapsed": true
   },
   "outputs": [],
   "source": []
  }
 ],
 "metadata": {
  "kernelspec": {
   "display_name": "Python [default]",
   "language": "python",
   "name": "python3"
  },
  "language_info": {
   "codemirror_mode": {
    "name": "ipython",
    "version": 3
   },
   "file_extension": ".py",
   "mimetype": "text/x-python",
   "name": "python",
   "nbconvert_exporter": "python",
   "pygments_lexer": "ipython3",
   "version": "3.5.2"
  }
 },
 "nbformat": 4,
 "nbformat_minor": 2
}
